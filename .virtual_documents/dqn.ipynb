import gymnasium as gym
import math
import random
import matplotlib
import matplotlib.pyplot as plt
from collections import namedtuple, deque
from itertools import count

import torch
import torch.nn as nn
import torch.optim as optim
import torch.nn.functional as F


device = torch.device("cuda" if torch.cuda.is_available() else "cpu")
print(device)


# Cyclic buffer to store transitions
class ReplayMmemory():
    def __init__(self, capacity):
        self.memory = deque([],maxlen=capacity)

    def push(self,transistion):
        self.memory.append(transition)

    def sample(self, n):
        return random.sample(self.memory
